{
 "cells": [
  {
   "cell_type": "code",
   "execution_count": 15,
   "id": "19b97039-13d9-4425-8fe1-78429518e2f5",
   "metadata": {},
   "outputs": [],
   "source": [
    "import os\n",
    "from skimage.exposure import adjust_gamma\n",
    "from skimage.io import imread\n",
    "from skimage.io import imsave"
   ]
  },
  {
   "cell_type": "code",
   "execution_count": 26,
   "id": "affc15a7-7618-47c1-ba8d-b244d41818d6",
   "metadata": {},
   "outputs": [],
   "source": [
    "os.chdir(r'/Users/robertadayrell/OneDrive/Artigos/2022 Dayrell Image segmentation/scripts/colour_calibration')\n",
    "#os.getcwd()\n",
    "#img = imread('colour_chart_small.jpg') / 255\n",
    "#img = imread('colour_chart.jpg') / 255\n",
    "img = imread('Scannen0360.jpg') / 255"
   ]
  },
  {
   "cell_type": "code",
   "execution_count": 27,
   "id": "cbf306a2-2bc8-445c-8d88-b1a2e3c402f4",
   "metadata": {},
   "outputs": [],
   "source": [
    "img_2point2 = adjust_gamma(img, 2.0/2.2)"
   ]
  },
  {
   "cell_type": "code",
   "execution_count": 28,
   "id": "35a9eb75-799c-4e6a-908d-37ddf42750da",
   "metadata": {},
   "outputs": [
    {
     "name": "stderr",
     "output_type": "stream",
     "text": [
      "Lossy conversion from float64 to uint8. Range [0, 1]. Convert image to uint8 prior to saving to suppress this warning.\n"
     ]
    }
   ],
   "source": [
    "imsave(r'/Users/robertadayrell/OneDrive/Artigos/2022 Dayrell Image segmentation/scripts/colour_calibration/test_img4.png', img_2point2, check_contrast=False)"
   ]
  },
  {
   "cell_type": "code",
   "execution_count": null,
   "id": "8567790b-395a-4914-beb8-bda5830e4f07",
   "metadata": {},
   "outputs": [],
   "source": []
  }
 ],
 "metadata": {
  "kernelspec": {
   "display_name": "Python 3 (ipykernel)",
   "language": "python",
   "name": "python3"
  },
  "language_info": {
   "codemirror_mode": {
    "name": "ipython",
    "version": 3
   },
   "file_extension": ".py",
   "mimetype": "text/x-python",
   "name": "python",
   "nbconvert_exporter": "python",
   "pygments_lexer": "ipython3",
   "version": "3.9.12"
  }
 },
 "nbformat": 4,
 "nbformat_minor": 5
}
